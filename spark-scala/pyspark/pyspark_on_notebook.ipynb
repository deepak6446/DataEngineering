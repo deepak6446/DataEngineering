{
 "cells": [
  {
   "cell_type": "code",
   "execution_count": 5,
   "id": "curious-contact",
   "metadata": {},
   "outputs": [],
   "source": [
    "import findspark\n",
    "findspark.init()\n",
    " \n",
    "import pyspark"
   ]
  },
  {
   "cell_type": "code",
   "execution_count": 6,
   "id": "sensitive-twist",
   "metadata": {},
   "outputs": [],
   "source": [
    "from pyspark import SparkConf, SparkContext\n",
    "import sys\n",
    "from pyspark.sql import functions, types, SparkSession, SQLContext\n",
    "from pyspark.sql.functions import count"
   ]
  },
  {
   "cell_type": "code",
   "execution_count": 8,
   "id": "coastal-affairs",
   "metadata": {},
   "outputs": [],
   "source": [
    "spark = SparkSession.builder.appName(\"spark on local\").getOrCreate()\n",
    "sc=spark.sparkContext\n",
    "sqlContext = SQLContext(sc)"
   ]
  },
  {
   "cell_type": "code",
   "execution_count": 11,
   "id": "excellent-campus",
   "metadata": {},
   "outputs": [
    {
     "name": "stdout",
     "output_type": "stream",
     "text": [
      "+---+---+\n",
      "|key|val|\n",
      "+---+---+\n",
      "| k1| v1|\n",
      "| k2| v1|\n",
      "| k3| v2|\n",
      "| k4| v2|\n",
      "+---+---+\n",
      "\n"
     ]
    }
   ],
   "source": [
    "cMap = {\"k1\" : \"v1\", \"k2\" : \"v1\", \"k3\" : \"v2\", \"k4\" : \"v2\"}\n",
    "a_cMap = [(k,)+(v,) for k,v in cMap.items()] \n",
    "data = spark.createDataFrame(a_cMap, ['key','val'])\n",
    "data.show()"
   ]
  },
  {
   "cell_type": "code",
   "execution_count": 12,
   "id": "respected-surveillance",
   "metadata": {},
   "outputs": [
    {
     "name": "stdout",
     "output_type": "stream",
     "text": [
      "+---+----+----+\n",
      "|key|  v1|  v2|\n",
      "+---+----+----+\n",
      "| k2|   1|null|\n",
      "| k4|null|   1|\n",
      "| k1|   1|null|\n",
      "| k3|null|   1|\n",
      "+---+----+----+\n",
      "\n"
     ]
    }
   ],
   "source": [
    "data = data.groupBy('key').pivot('val').agg(count('val'))\n",
    "data.show()"
   ]
  }
 ],
 "metadata": {
  "kernelspec": {
   "display_name": "Python 3",
   "language": "python",
   "name": "python3"
  },
  "language_info": {
   "codemirror_mode": {
    "name": "ipython",
    "version": 3
   },
   "file_extension": ".py",
   "mimetype": "text/x-python",
   "name": "python",
   "nbconvert_exporter": "python",
   "pygments_lexer": "ipython3",
   "version": "3.7.6"
  }
 },
 "nbformat": 4,
 "nbformat_minor": 5
}
